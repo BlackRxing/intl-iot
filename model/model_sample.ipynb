{
 "cells": [
  {
   "cell_type": "markdown",
   "metadata": {},
   "source": [
    "## Train a model and predict device activities\n",
    "\n",
    "The file works you through training a model to detect activities of a given device. An activity is defined as any action a device allow its users to do, and each activity should contain at least three repeated experiments to make representative learnings. \n",
    "\n",
    "**Before you go ahead, download the required pcap files** from [Google Drive > iot-model.tgz](https://drive.google.com/open?id=1lMqZ5qx6ATqIIiLOdTYcSm6RliK1F7vA) (size = ~127MB), and decompress it to the current folder. You should expect the file structure to be `traffic/us/yi-camera/{activity_name}/{datetime}.{length}.pcap`.\n",
    "\n",
    "**IMPORTANT** Make sure to use `python3` and install all the dependencies. \n",
    "- `pip install -r requirements.txt`\n"
   ]
  },
  {
   "cell_type": "markdown",
   "metadata": {},
   "source": [
    "#### Extract pcap files to per-flow level info \n",
    "(output too long, hidden from this file)"
   ]
  },
  {
   "cell_type": "code",
   "execution_count": null,
   "metadata": {},
   "outputs": [],
   "source": [
    "!./raw2intermediate.sh list_exp.txt tagged-intermediate/us"
   ]
  },
  {
   "cell_type": "markdown",
   "metadata": {},
   "source": [
    "#### Parse per-flow info to features per-activity\n",
    "(output too long, hidden from this file)"
   ]
  },
  {
   "cell_type": "code",
   "execution_count": null,
   "metadata": {},
   "outputs": [],
   "source": [
    "!python extract_tbp_features.py tagged-intermediate/us/ features/us/"
   ]
  },
  {
   "cell_type": "markdown",
   "metadata": {},
   "source": [
    "#### Train the model using the features\n",
    "(re-reun the command below will skip the trained model, delete .model and .label.txt file to re-train) "
   ]
  },
  {
   "cell_type": "code",
   "execution_count": 3,
   "metadata": {},
   "outputs": [
    {
     "name": "stdout",
     "output_type": "stream",
     "text": [
      "\n",
      "Training data and creating model...\n",
      "Running train_rf_models.py...\n",
      "mkdir: created directory 'tagged-models/us'\n",
      "mkdir: created directory 'tagged-models/us//output'\n",
      "Scanning features/us//yi-camera.csv\n",
      "  Data points: 2490 \n",
      "\tVariable: spanOfGroup          Importance: 0.409\n",
      "\tVariable: meanTBP              Importance: 0.063\n",
      "\tVariable: q60                  Importance: 0.053\n",
      "\tVariable: q80                  Importance: 0.049\n",
      "\tVariable: q90                  Importance: 0.048\n",
      "\tVariable: kurtosisLength       Importance: 0.047\n",
      "\tVariable: meanBytes            Importance: 0.044\n",
      "\tVariable: q70                  Importance: 0.044\n",
      "\tVariable: medAbsDev            Importance: 0.04\n",
      "\tVariable: q40                  Importance: 0.036\n",
      "\tVariable: skewLength           Importance: 0.033\n",
      "\tVariable: medianTBP            Importance: 0.027\n",
      "\tVariable: varTBP               Importance: 0.025\n",
      "\tVariable: q50                  Importance: 0.024\n",
      "\tVariable: skewTBP              Importance: 0.02\n",
      "\tVariable: kurtosisTBP          Importance: 0.019\n",
      "\tVariable: q10                  Importance: 0.005\n",
      "\tVariable: q20                  Importance: 0.005\n",
      "\tVariable: q30                  Importance: 0.005\n",
      "\tVariable: maxBytes             Importance: 0.003\n",
      "\tVariable: minBytes             Importance: 0.001\n",
      "  Model -> tagged-models/us//yi-camera.model\n",
      "  Labels -> tagged-models/us//yi-camera.label.txt\n",
      "  Accuracy: 1.0\n",
      "Accuracy scores saved to tagged-models/us//output/train-models.txt\n"
     ]
    }
   ],
   "source": [
    "!python3 train_rf_models.py features/us/ tagged-models/us/"
   ]
  },
  {
   "cell_type": "markdown",
   "metadata": {},
   "source": [
    "#### Predict activities given a pcap file\n",
    "\n",
    "`Usage: ./predict.sh device_name path-to-pcap result-file modeldir\n",
    "    Note that a temprary file  /tmp/{md5}.txt will be created during the process\n",
    "    Requires python3`"
   ]
  },
  {
   "cell_type": "code",
   "execution_count": 4,
   "metadata": {},
   "outputs": [
    {
     "name": "stdout",
     "output_type": "stream",
     "text": [
      "\n",
      "Predicting amout of inferable device activity from pcap file...\n",
      "Running predict.py...\n",
      "mkdir: created directory 'user-intermediates/'\n",
      "Model: tagged-models/us//yi-camera.model\n",
      "Total packets: 1621\n",
      "Number of slices: 2\n",
      "Results:\n",
      "             ts        ts_end  ts_delta  num_pkt              state\n",
      "0  1.556329e+09  1.556329e+09  0.000019     1620  android_lan_watch\n",
      "Results saved to sample-result.csv\n"
     ]
    }
   ],
   "source": [
    "!python3 -W ignore predict.py yi-camera sample-yi-camera-recording.pcap sample-result.csv tagged-models/us/"
   ]
  },
  {
   "cell_type": "code",
   "execution_count": 5,
   "metadata": {
    "scrolled": true
   },
   "outputs": [
    {
     "name": "stdout",
     "output_type": "stream",
     "text": [
      "ts,ts_end,ts_delta,num_pkt,state,device\r\n",
      "1556329377.198794,1556329407.828307,1.9e-05,1620,android_lan_watch,yi-camera\r\n"
     ]
    }
   ],
   "source": [
    "!cat sample-result.csv"
   ]
  },
  {
   "cell_type": "markdown",
   "metadata": {},
   "source": [
    "Explanation - between epoch time 1556329377.198794 and 1556329407.828307, the network traffic from yi-camera was predicted as the same activity as android_lan_watch, which is using android companion app to watch the video from the camera when both devices are connected to the same WI-FI network."
   ]
  }
 ],
 "metadata": {
  "kernelspec": {
   "display_name": "Python 3",
   "language": "python",
   "name": "python3"
  },
  "language_info": {
   "codemirror_mode": {
    "name": "ipython",
    "version": 3
   },
   "file_extension": ".py",
   "mimetype": "text/x-python",
   "name": "python",
   "nbconvert_exporter": "python",
   "pygments_lexer": "ipython3",
   "version": "3.6.9"
  }
 },
 "nbformat": 4,
 "nbformat_minor": 2
}

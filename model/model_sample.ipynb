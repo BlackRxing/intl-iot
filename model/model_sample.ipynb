{
 "cells": [
  {
   "cell_type": "markdown",
   "metadata": {},
   "source": [
    "## Train a Model and Predict Device Activities\n",
    "\n",
    "The file works through training a model to detect activities of a given device. An activity is defined as any action a device allow its users to do, and each activity should contain at least three repeated experiments to make representative learnings. \n",
    "\n",
    "**Before you go ahead, download the required pcap files.** Request the dataset at https://moniotrlab.ccis.neu.edu/imc19/. When access has been granted, download the `iot-model.tgz` archive, decompress it to the current folder. You should expect the file structure to be `traffic/us/yi-camera/{activity_name}/{datetime}.{length}.pcap`.\n",
    "\n",
    "**IMPORTANT** Make sure to use `python3`, and install all the dependencies. \n",
    "- `pip install -r requirements.txt`\n"
   ]
  },
  {
   "cell_type": "markdown",
   "metadata": {},
   "source": [
    "#### Extract pcap files to per-flow level info\n",
    "Output has been truncated because of length."
   ]
  },
  {
   "cell_type": "code",
   "execution_count": 1,
   "metadata": {
    "scrolled": true
   },
   "outputs": [
    {
     "name": "stdout",
     "output_type": "stream",
     "text": [
      "Running raw2intermediate.sh...\n",
      "tagged-intermediate/us/yi-camera/power/2019-04-25_19:28:58.154s.txt exists.\n",
      "tagged-intermediate/us/yi-camera/power/2019-04-25_19:25:30.155s.txt exists.\n",
      "tagged-intermediate/us/yi-camera/power/2019-04-25_19:21:40.166s.txt exists.\n",
      "tagged-intermediate/us/yi-camera/local_move/2019-04-25_19:47:16.40s.txt exists.\n",
      "tagged-intermediate/us/yi-camera/local_move/2019-04-25_19:48:09.53s.txt exists.\n",
      "tagged-intermediate/us/yi-camera/local_move/2019-04-25_19:46:16.41s.txt exists.\n",
      "tagged-intermediate/us/yi-camera/android_lan_photo/2019-04-26_22:48:43.35s.txt exists.\n",
      "tagged-intermediate/us/yi-camera/android_lan_photo/2019-04-26_22:07:05.36s.txt exists.\n",
      "tagged-intermediate/us/yi-camera/android_lan_photo/2019-04-26_21:58:17.36s.txt exists.\n",
      "tagged-intermediate/us/yi-camera/android_lan_photo/2019-04-26_21:27:00.31s.txt exists.\n",
      "tagged-intermediate/us/yi-camera/android_lan_photo/2019-04-26_22:08:57.36s.txt exists.\n",
      "tagged-intermediate/us/yi-camera/android_lan_photo/2019-04-26_21:38:48.36s.txt exists.\n",
      "tagged-intermediate/us/yi-camera/android_lan_photo/2019-04-26_22:01:50.35s.txt exists.\n"
     ]
    }
   ],
   "source": [
    "!./raw2intermediate.sh exp_list.txt tagged-intermediate/us"
   ]
  },
  {
   "cell_type": "markdown",
   "metadata": {},
   "source": [
    "#### Parse per-flow info to features per-activity\n",
    "Output has been truncated because of length"
   ]
  },
  {
   "cell_type": "code",
   "execution_count": 2,
   "metadata": {
    "scrolled": true
   },
   "outputs": [
    {
     "name": "stdout",
     "output_type": "stream",
     "text": [
      "Running extract_tbp_features.py...\n",
      "Input files located in: tagged-intermediate/us/\n",
      "Output files placed in: features/us/\n",
      "mkdir: created directory 'features'\n",
      "mkdir: created directory 'features/us'\n",
      "mkdir: created directory 'features/us//caches'\n",
      "Feature files to be generated from following devices: yi-camera\n",
      "Total packets: 160\n",
      "    Saved to features/us//caches/yi-camera_power_2019-04-25_19:25:30.155s.csv\n",
      "Total packets: 162\n",
      "    Saved to features/us//caches/yi-camera_power_2019-04-25_19:21:40.166s.csv\n",
      "Total packets: 152\n",
      "    Saved to features/us//caches/yi-camera_power_2019-04-25_19:28:58.154s.csv\n",
      "Total packets: 1557\n",
      "    Saved to features/us//caches/yi-camera_android_wan_photo_2019-04-27_22:08:01.37s.csv\n",
      "Total packets: 1573\n",
      "    Saved to features/us//caches/yi-camera_android_wan_photo_2019-04-27_21:44:25.36s.csv\n",
      "Total packets: 1715\n",
      "    Saved to features/us//caches/yi-camera_android_wan_photo_2019-04-27_22:29:48.37s.csv\n",
      "Total packets: 1590\n",
      "    Saved to features/us//caches/yi-camera_android_wan_photo_2019-04-27_21:33:28.36s.csv\n",
      "Total packets: 1545\n",
      "    Saved to features/us//caches/yi-camera_android_wan_photo_2019-04-27_22:26:12.36s.csv\n",
      "Total packets: 1574\n",
      "    Saved to features/us//caches/yi-camera_android_wan_photo_2019-04-27_21:31:38.36s.csv\n",
      "Total packets: 1563\n",
      "    Saved to features/us//caches/yi-camera_android_wan_photo_2019-04-27_22:35:21.36s.csv\n",
      "Total packets: 1545\n",
      "    Saved to features/us//caches/yi-camera_android_wan_photo_2019-04-27_21:55:19.35s.csv\n",
      "Total packets: 1507\n",
      "    Saved to features/us//caches/yi-camera_android_wan_photo_2019-04-27_21:37:09.37s.csv\n"
     ]
    }
   ],
   "source": [
    "!python extract_tbp_features.py tagged-intermediate/us/ features/us/"
   ]
  },
  {
   "cell_type": "markdown",
   "metadata": {},
   "source": [
    "#### Train the model using the features\n",
    "Reruning the command below will skip the model training. Delete .model and .label.txt files in `tagged-models/us/` to retrain."
   ]
  },
  {
   "cell_type": "code",
   "execution_count": 3,
   "metadata": {},
   "outputs": [
    {
     "name": "stdout",
     "output_type": "stream",
     "text": [
      "Running train_rf_models.py...\n",
      "mkdir: created directory 'tagged-models'\n",
      "mkdir: created directory 'tagged-models/us'\n",
      "mkdir: created directory 'tagged-models/us//output'\n",
      "Scanning features/us//yi-camera.csv\n",
      "  Data points: 2490 \n",
      "\tVariable: spanOfGroup          Importance: 0.402\n",
      "\tVariable: q90                  Importance: 0.071\n",
      "\tVariable: meanTBP              Importance: 0.063\n",
      "\tVariable: q60                  Importance: 0.05\n",
      "\tVariable: q80                  Importance: 0.05\n",
      "\tVariable: kurtosisLength       Importance: 0.045\n",
      "\tVariable: meanBytes            Importance: 0.043\n",
      "\tVariable: q70                  Importance: 0.04\n",
      "\tVariable: q40                  Importance: 0.039\n",
      "\tVariable: medAbsDev            Importance: 0.036\n",
      "\tVariable: skewLength           Importance: 0.029\n",
      "\tVariable: medianTBP            Importance: 0.026\n",
      "\tVariable: varTBP               Importance: 0.025\n",
      "\tVariable: q50                  Importance: 0.021\n",
      "\tVariable: kurtosisTBP          Importance: 0.02\n",
      "\tVariable: skewTBP              Importance: 0.019\n",
      "\tVariable: q30                  Importance: 0.006\n",
      "\tVariable: q10                  Importance: 0.005\n",
      "\tVariable: q20                  Importance: 0.005\n",
      "\tVariable: maxBytes             Importance: 0.003\n",
      "\tVariable: minBytes             Importance: 0.001\n",
      "  Model -> tagged-models/us//yi-camera.model\n",
      "  Labels -> tagged-models/us//yi-camera.label.txt\n",
      "  Accuracy: 1.0\n",
      "Accuracy scores saved to tagged-models/us//output/train-models.txt\n"
     ]
    }
   ],
   "source": [
    "!python train_rf_models.py features/us/ tagged-models/us/"
   ]
  },
  {
   "cell_type": "markdown",
   "metadata": {},
   "source": [
    "#### Predict activities given a pcap file"
   ]
  },
  {
   "cell_type": "code",
   "execution_count": 4,
   "metadata": {},
   "outputs": [
    {
     "name": "stdout",
     "output_type": "stream",
     "text": [
      "Running predict.py...\n",
      "mkdir: created directory 'user-intermediates/'\n",
      "Model: tagged-models/us//yi-camera.model\n",
      "Total packets: 1621\n",
      "Number of slices: 2\n",
      "Results:\n",
      "             ts        ts_end  ts_delta  num_pkt              state\n",
      "0  1.556329e+09  1.556329e+09  0.000019     1620  android_lan_watch\n",
      "Results saved to sample_result.csv\n"
     ]
    }
   ],
   "source": [
    "!python -W ignore predict.py yi-camera sample_yi_camera_recording.pcap sample_result.csv tagged-models/us/"
   ]
  },
  {
   "cell_type": "code",
   "execution_count": 5,
   "metadata": {
    "scrolled": true
   },
   "outputs": [
    {
     "name": "stdout",
     "output_type": "stream",
     "text": [
      "ts,ts_end,ts_delta,num_pkt,state,device\r\n",
      "1556329377.198794,1556329407.828307,1.9e-05,1620,android_lan_watch,yi-camera\r\n"
     ]
    }
   ],
   "source": [
    "!cat sample_result.csv"
   ]
  },
  {
   "cell_type": "markdown",
   "metadata": {},
   "source": [
    "Explanation: Between epoch time 1556329377.198794 and 1556329407.828307, the network traffic from yi-camera was predicted to be the same activity as android_lan_watch, which is using the android companion app to watch the video from the camera when both devices are connected to the same WI-FI network."
   ]
  }
 ],
 "metadata": {
  "kernelspec": {
   "display_name": "Python 3",
   "language": "python",
   "name": "python3"
  },
  "language_info": {
   "codemirror_mode": {
    "name": "ipython",
    "version": 3
   },
   "file_extension": ".py",
   "mimetype": "text/x-python",
   "name": "python",
   "nbconvert_exporter": "python",
   "pygments_lexer": "ipython3",
   "version": "3.6.9"
  }
 },
 "nbformat": 4,
 "nbformat_minor": 2
}
